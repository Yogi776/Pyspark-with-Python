{
 "cells": [
  {
   "cell_type": "code",
   "execution_count": 1,
   "metadata": {},
   "outputs": [],
   "source": [
    "from __future__ import print_function\n",
    "import findspark\n",
    "findspark.init()\n",
    "findspark.find()\n",
    "import pyspark\n",
    "findspark.find()\n",
    "from pyspark.sql import SparkSession\n",
    "from pyspark.ml.feature import VectorAssembler\n",
    "from pyspark.ml.classification import RandomForestClassifier\n",
    "from pyspark.ml.feature import StandardScaler\n",
    "from pyspark.ml.evaluation import MulticlassClassificationEvaluator\n",
    "from pyspark.ml.feature import StringIndexer"
   ]
  },
  {
   "cell_type": "code",
   "execution_count": 2,
   "metadata": {},
   "outputs": [],
   "source": [
    "if __name__ == \"__main__\":\n",
    "    spark = SparkSession\\\n",
    "        .builder\\\n",
    "        .appName(\"randomForestClassifier\")\\\n",
    "        .getOrCreate()"
   ]
  },
  {
   "cell_type": "code",
   "execution_count": 3,
   "metadata": {},
   "outputs": [],
   "source": [
    "dataset = spark.read.csv(\"winequality_red.csv\",header=True)"
   ]
  },
  {
   "cell_type": "code",
   "execution_count": 4,
   "metadata": {},
   "outputs": [
    {
     "name": "stdout",
     "output_type": "stream",
     "text": [
      "+-------------+----------------+-----------+--------------+-------------------+-------------------+--------------------+-------+----+---------+-------+-------+\n",
      "|fixed acidity|volatile acidity|citric acid|residual sugar|          chlorides|free sulfur dioxide|total sulfur dioxide|density|  pH|sulphates|alcohol|quality|\n",
      "+-------------+----------------+-----------+--------------+-------------------+-------------------+--------------------+-------+----+---------+-------+-------+\n",
      "|          7.4|             0.7|        0.0|           1.9|              0.076|               11.0|                34.0| 0.9978|3.51|     0.56|    9.4|      5|\n",
      "|          7.8|            0.88|        0.0|           2.6|              0.098|               25.0|                67.0| 0.9968| 3.2|     0.68|    9.8|      5|\n",
      "|          7.8|            0.76|       0.04|           2.3|              0.092|               15.0|                54.0|  0.997|3.26|     0.65|    9.8|      5|\n",
      "|         11.2|            0.28|       0.56|           1.9|              0.075|               17.0|                60.0|  0.998|3.16|     0.58|    9.8|      6|\n",
      "|          7.4|             0.7|        0.0|           1.9|              0.076|               11.0|                34.0| 0.9978|3.51|     0.56|    9.4|      5|\n",
      "|          7.4|            0.66|        0.0|           1.8|              0.075|               13.0|                40.0| 0.9978|3.51|     0.56|    9.4|      5|\n",
      "|          7.9|             0.6|       0.06|           1.6|              0.069|               15.0|                59.0| 0.9964| 3.3|     0.46|    9.4|      5|\n",
      "|          7.3|            0.65|        0.0|           1.2|              0.065|               15.0|                21.0| 0.9946|3.39|     0.47|   10.0|      7|\n",
      "|          7.8|            0.58|       0.02|           2.0|              0.073|                9.0|                18.0| 0.9968|3.36|     0.57|    9.5|      7|\n",
      "|          7.5|             0.5|       0.36|           6.1|              0.071|               17.0|               102.0| 0.9978|3.35|      0.8|   10.5|      5|\n",
      "|          6.7|            0.58|       0.08|           1.8|0.09699999999999999|               15.0|                65.0| 0.9959|3.28|     0.54|    9.2|      5|\n",
      "|          7.5|             0.5|       0.36|           6.1|              0.071|               17.0|               102.0| 0.9978|3.35|      0.8|   10.5|      5|\n",
      "|          5.6|           0.615|        0.0|           1.6|0.08900000000000001|               16.0|                59.0| 0.9943|3.58|     0.52|    9.9|      5|\n",
      "|          7.8|            0.61|       0.29|           1.6|              0.114|                9.0|                29.0| 0.9974|3.26|     1.56|    9.1|      5|\n",
      "|          8.9|            0.62|       0.18|           3.8|0.17600000000000002|               52.0|               145.0| 0.9986|3.16|     0.88|    9.2|      5|\n",
      "|          8.9|            0.62|       0.19|           3.9|               0.17|               51.0|               148.0| 0.9986|3.17|     0.93|    9.2|      5|\n",
      "|          8.5|            0.28|       0.56|           1.8|              0.092|               35.0|               103.0| 0.9969| 3.3|     0.75|   10.5|      7|\n",
      "|          8.1|            0.56|       0.28|           1.7|              0.368|               16.0|                56.0| 0.9968|3.11|     1.28|    9.3|      5|\n",
      "|          7.4|            0.59|       0.08|           4.4|              0.086|                6.0|                29.0| 0.9974|3.38|      0.5|    9.0|      4|\n",
      "|          7.9|            0.32|       0.51|           1.8|              0.341|               17.0|                56.0| 0.9969|3.04|     1.08|    9.2|      6|\n",
      "+-------------+----------------+-----------+--------------+-------------------+-------------------+--------------------+-------+----+---------+-------+-------+\n",
      "only showing top 20 rows\n",
      "\n"
     ]
    }
   ],
   "source": [
    "dataset.show()"
   ]
  },
  {
   "cell_type": "code",
   "execution_count": 5,
   "metadata": {},
   "outputs": [
    {
     "name": "stdout",
     "output_type": "stream",
     "text": [
      "root\n",
      " |-- fixed acidity: string (nullable = true)\n",
      " |-- volatile acidity: string (nullable = true)\n",
      " |-- citric acid: string (nullable = true)\n",
      " |-- residual sugar: string (nullable = true)\n",
      " |-- chlorides: string (nullable = true)\n",
      " |-- free sulfur dioxide: string (nullable = true)\n",
      " |-- total sulfur dioxide: string (nullable = true)\n",
      " |-- density: string (nullable = true)\n",
      " |-- pH: string (nullable = true)\n",
      " |-- sulphates: string (nullable = true)\n",
      " |-- alcohol: string (nullable = true)\n",
      " |-- quality: string (nullable = true)\n",
      "\n"
     ]
    }
   ],
   "source": [
    "dataset.printSchema()"
   ]
  },
  {
   "cell_type": "code",
   "execution_count": 6,
   "metadata": {},
   "outputs": [],
   "source": [
    "from pyspark.sql.functions import col\n",
    "new_data = dataset.select(*(col(c).cast(\"float\").alias(c) for c in dataset.columns))"
   ]
  },
  {
   "cell_type": "code",
   "execution_count": 7,
   "metadata": {},
   "outputs": [
    {
     "name": "stdout",
     "output_type": "stream",
     "text": [
      "root\n",
      " |-- fixed acidity: float (nullable = true)\n",
      " |-- volatile acidity: float (nullable = true)\n",
      " |-- citric acid: float (nullable = true)\n",
      " |-- residual sugar: float (nullable = true)\n",
      " |-- chlorides: float (nullable = true)\n",
      " |-- free sulfur dioxide: float (nullable = true)\n",
      " |-- total sulfur dioxide: float (nullable = true)\n",
      " |-- density: float (nullable = true)\n",
      " |-- pH: float (nullable = true)\n",
      " |-- sulphates: float (nullable = true)\n",
      " |-- alcohol: float (nullable = true)\n",
      " |-- quality: float (nullable = true)\n",
      "\n"
     ]
    }
   ],
   "source": [
    "new_data.printSchema()"
   ]
  },
  {
   "cell_type": "code",
   "execution_count": 8,
   "metadata": {},
   "outputs": [
    {
     "name": "stdout",
     "output_type": "stream",
     "text": [
      "+-------------+----------------+-----------+--------------+---------+-------------------+--------------------+-------+---+---------+-------+-------+\n",
      "|fixed acidity|volatile acidity|citric acid|residual sugar|chlorides|free sulfur dioxide|total sulfur dioxide|density| pH|sulphates|alcohol|quality|\n",
      "+-------------+----------------+-----------+--------------+---------+-------------------+--------------------+-------+---+---------+-------+-------+\n",
      "|            0|               0|          0|             0|        0|                  0|                   0|      0|  0|        0|      0|      0|\n",
      "+-------------+----------------+-----------+--------------+---------+-------------------+--------------------+-------+---+---------+-------+-------+\n",
      "\n"
     ]
    }
   ],
   "source": [
    "from pyspark.sql.functions import col, count, isnan, when\n",
    "#checking for null ir nan type values in our columns\n",
    "new_data.select([count(when(col(c).isNull(), c)).alias(c) for c in new_data.columns]).show()"
   ]
  },
  {
   "cell_type": "code",
   "execution_count": 9,
   "metadata": {},
   "outputs": [],
   "source": [
    "cols=new_data.columns\n",
    "cols.remove(\"quality\")\n",
    "assembler = VectorAssembler(inputCols=cols,outputCol=\"features\")\n",
    "# Now let us use the transform method to transform our dataset\n",
    "data=assembler.transform(new_data)\n",
    "data = data.select(\"features\",'quality')"
   ]
  },
  {
   "cell_type": "code",
   "execution_count": 10,
   "metadata": {},
   "outputs": [
    {
     "name": "stdout",
     "output_type": "stream",
     "text": [
      "+--------------------+-------+\n",
      "|            features|quality|\n",
      "+--------------------+-------+\n",
      "|[7.40000009536743...|    5.0|\n",
      "|[7.80000019073486...|    5.0|\n",
      "|[7.80000019073486...|    5.0|\n",
      "|[11.1999998092651...|    6.0|\n",
      "|[7.40000009536743...|    5.0|\n",
      "|[7.40000009536743...|    5.0|\n",
      "|[7.90000009536743...|    5.0|\n",
      "|[7.30000019073486...|    7.0|\n",
      "|[7.80000019073486...|    7.0|\n",
      "|[7.5,0.5,0.360000...|    5.0|\n",
      "|[6.69999980926513...|    5.0|\n",
      "|[7.5,0.5,0.360000...|    5.0|\n",
      "|[5.59999990463256...|    5.0|\n",
      "|[7.80000019073486...|    5.0|\n",
      "|[8.89999961853027...|    5.0|\n",
      "|[8.89999961853027...|    5.0|\n",
      "|[8.5,0.2800000011...|    7.0|\n",
      "|[8.10000038146972...|    5.0|\n",
      "|[7.40000009536743...|    4.0|\n",
      "|[7.90000009536743...|    6.0|\n",
      "+--------------------+-------+\n",
      "only showing top 20 rows\n",
      "\n"
     ]
    }
   ],
   "source": [
    "data.show()"
   ]
  },
  {
   "cell_type": "code",
   "execution_count": 11,
   "metadata": {},
   "outputs": [],
   "source": [
    "stringIndexer = StringIndexer(inputCol=\"quality\", outputCol=\"quality_index\")\n",
    "data_indexed = stringIndexer.fit(data).transform(data)"
   ]
  },
  {
   "cell_type": "code",
   "execution_count": 12,
   "metadata": {},
   "outputs": [
    {
     "name": "stdout",
     "output_type": "stream",
     "text": [
      "+--------------------+-------+-------------+\n",
      "|            features|quality|quality_index|\n",
      "+--------------------+-------+-------------+\n",
      "|[7.40000009536743...|    5.0|          0.0|\n",
      "|[7.80000019073486...|    5.0|          0.0|\n",
      "|[7.80000019073486...|    5.0|          0.0|\n",
      "|[11.1999998092651...|    6.0|          1.0|\n",
      "|[7.40000009536743...|    5.0|          0.0|\n",
      "|[7.40000009536743...|    5.0|          0.0|\n",
      "|[7.90000009536743...|    5.0|          0.0|\n",
      "|[7.30000019073486...|    7.0|          2.0|\n",
      "|[7.80000019073486...|    7.0|          2.0|\n",
      "|[7.5,0.5,0.360000...|    5.0|          0.0|\n",
      "|[6.69999980926513...|    5.0|          0.0|\n",
      "|[7.5,0.5,0.360000...|    5.0|          0.0|\n",
      "|[5.59999990463256...|    5.0|          0.0|\n",
      "|[7.80000019073486...|    5.0|          0.0|\n",
      "|[8.89999961853027...|    5.0|          0.0|\n",
      "|[8.89999961853027...|    5.0|          0.0|\n",
      "|[8.5,0.2800000011...|    7.0|          2.0|\n",
      "|[8.10000038146972...|    5.0|          0.0|\n",
      "|[7.40000009536743...|    4.0|          3.0|\n",
      "|[7.90000009536743...|    6.0|          1.0|\n",
      "+--------------------+-------+-------------+\n",
      "only showing top 20 rows\n",
      "\n"
     ]
    }
   ],
   "source": [
    "data_indexed.show()"
   ]
  },
  {
   "cell_type": "code",
   "execution_count": 13,
   "metadata": {},
   "outputs": [],
   "source": [
    "(train, test) = data_indexed.randomSplit([0.7, 0.3])"
   ]
  },
  {
   "cell_type": "code",
   "execution_count": 14,
   "metadata": {},
   "outputs": [],
   "source": [
    "random_forest_classifier = RandomForestClassifier(labelCol=\"quality_index\", featuresCol=\"features\", numTrees=10)"
   ]
  },
  {
   "cell_type": "code",
   "execution_count": 15,
   "metadata": {},
   "outputs": [],
   "source": [
    "model = random_forest_classifier.fit(train)"
   ]
  },
  {
   "cell_type": "code",
   "execution_count": 16,
   "metadata": {},
   "outputs": [],
   "source": [
    "predictions = model.transform(test)"
   ]
  },
  {
   "cell_type": "code",
   "execution_count": 17,
   "metadata": {},
   "outputs": [
    {
     "name": "stdout",
     "output_type": "stream",
     "text": [
      "+--------------------+-------+-------------+--------------------+--------------------+----------+\n",
      "|            features|quality|quality_index|       rawPrediction|         probability|prediction|\n",
      "+--------------------+-------+-------------+--------------------+--------------------+----------+\n",
      "|[5.0,0.4000000059...|    6.0|          1.0|[1.80117820432350...|[0.18011782043235...|       1.0|\n",
      "|[5.09999990463256...|    7.0|          2.0|[1.44540459550667...|[0.14454045955066...|       1.0|\n",
      "|[5.19999980926513...|    7.0|          2.0|[1.55397492785552...|[0.15539749278555...|       1.0|\n",
      "|[5.30000019073486...|    5.0|          0.0|[2.62836299316083...|[0.26283629931608...|       1.0|\n",
      "|[5.40000009536743...|    6.0|          1.0|[1.63849836013302...|[0.16384983601330...|       1.0|\n",
      "|[5.5,0.4900000095...|    8.0|          4.0|[0.92186578638392...|[0.09218657863839...|       2.0|\n",
      "|[5.59999990463256...|    6.0|          1.0|[2.86001645968981...|[0.28600164596898...|       2.0|\n",
      "|[5.59999990463256...|    5.0|          0.0|[3.38664651038530...|[0.33866465103853...|       1.0|\n",
      "|[5.59999990463256...|    5.0|          0.0|[2.16819434482422...|[0.21681943448242...|       1.0|\n",
      "|[5.59999990463256...|    4.0|          3.0|[3.40851779621547...|[0.34085177962154...|       1.0|\n",
      "|[5.59999990463256...|    7.0|          2.0|[1.99181163172557...|[0.19918116317255...|       1.0|\n",
      "|[5.59999990463256...|    7.0|          2.0|[1.99181163172557...|[0.19918116317255...|       1.0|\n",
      "|[5.59999990463256...|    5.0|          0.0|[2.33479411985600...|[0.23347941198560...|       1.0|\n",
      "|[5.69999980926513...|    4.0|          3.0|[7.75979290576160...|[0.77597929057616...|       0.0|\n",
      "|[5.80000019073486...|    6.0|          1.0|[1.67506442905333...|[0.16750644290533...|       1.0|\n",
      "|[5.90000009536743...|    6.0|          1.0|[0.82447297993970...|[0.08244729799397...|       2.0|\n",
      "|[5.90000009536743...|    5.0|          0.0|[2.75842463652623...|[0.27584246365262...|       1.0|\n",
      "|[6.0,0.3100000023...|    6.0|          1.0|[1.84559460450260...|[0.18455946045026...|       1.0|\n",
      "|[6.0,0.5,0.0,1.39...|    5.0|          0.0|[5.71680154031671...|[0.57168015403167...|       0.0|\n",
      "|[6.09999990463256...|    5.0|          0.0|[2.12427615617579...|[0.21242761561757...|       1.0|\n",
      "+--------------------+-------+-------------+--------------------+--------------------+----------+\n",
      "only showing top 20 rows\n",
      "\n"
     ]
    }
   ],
   "source": [
    "predictions.show()"
   ]
  },
  {
   "cell_type": "code",
   "execution_count": 18,
   "metadata": {},
   "outputs": [],
   "source": [
    "# Select (prediction, true label) and compute test error\n",
    "evaluator = MulticlassClassificationEvaluator(\n",
    "    labelCol=\"quality_index\", predictionCol=\"prediction\", metricName=\"accuracy\")\n",
    "accuracy = evaluator.evaluate(predictions)\n"
   ]
  },
  {
   "cell_type": "code",
   "execution_count": 19,
   "metadata": {},
   "outputs": [
    {
     "name": "stdout",
     "output_type": "stream",
     "text": [
      "Accuracy 0.6132478632478633\n"
     ]
    }
   ],
   "source": [
    "print (\"Accuracy\",accuracy)"
   ]
  },
  {
   "cell_type": "code",
   "execution_count": 20,
   "metadata": {},
   "outputs": [],
   "source": [
    "spark.stop()"
   ]
  },
  {
   "cell_type": "code",
   "execution_count": null,
   "metadata": {},
   "outputs": [],
   "source": []
  }
 ],
 "metadata": {
  "kernelspec": {
   "display_name": "Python 3",
   "language": "python",
   "name": "python3"
  },
  "language_info": {
   "codemirror_mode": {
    "name": "ipython",
    "version": 3
   },
   "file_extension": ".py",
   "mimetype": "text/x-python",
   "name": "python",
   "nbconvert_exporter": "python",
   "pygments_lexer": "ipython3",
   "version": "3.8.8"
  }
 },
 "nbformat": 4,
 "nbformat_minor": 4
}
