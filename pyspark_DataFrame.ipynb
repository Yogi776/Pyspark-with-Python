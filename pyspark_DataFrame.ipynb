{
  "nbformat": 4,
  "nbformat_minor": 0,
  "metadata": {
    "colab": {
      "name": "pyspark DataFrame.ipynb",
      "provenance": []
    },
    "kernelspec": {
      "name": "python3",
      "display_name": "Python 3"
    },
    "language_info": {
      "name": "python"
    },
    "accelerator": "GPU"
  },
  "cells": [
    {
      "cell_type": "code",
      "metadata": {
        "colab": {
          "base_uri": "https://localhost:8080/"
        },
        "id": "bxdGx0dFYUtZ",
        "outputId": "a39ba41d-d055-4735-86db-ec6c2ebc51fd"
      },
      "source": [
        "!pip install pyspark"
      ],
      "execution_count": 2,
      "outputs": [
        {
          "output_type": "stream",
          "text": [
            "Collecting pyspark\n",
            "\u001b[?25l  Downloading https://files.pythonhosted.org/packages/45/b0/9d6860891ab14a39d4bddf80ba26ce51c2f9dc4805e5c6978ac0472c120a/pyspark-3.1.1.tar.gz (212.3MB)\n",
            "\u001b[K     |████████████████████████████████| 212.3MB 69kB/s \n",
            "\u001b[?25hCollecting py4j==0.10.9\n",
            "\u001b[?25l  Downloading https://files.pythonhosted.org/packages/9e/b6/6a4fb90cd235dc8e265a6a2067f2a2c99f0d91787f06aca4bcf7c23f3f80/py4j-0.10.9-py2.py3-none-any.whl (198kB)\n",
            "\u001b[K     |████████████████████████████████| 204kB 37.7MB/s \n",
            "\u001b[?25hBuilding wheels for collected packages: pyspark\n",
            "  Building wheel for pyspark (setup.py) ... \u001b[?25l\u001b[?25hdone\n",
            "  Created wheel for pyspark: filename=pyspark-3.1.1-py2.py3-none-any.whl size=212767604 sha256=e39f7051301d2cca4fa52b0a9b0afc8e6e137a2362251e910379a7ddf15bf4e7\n",
            "  Stored in directory: /root/.cache/pip/wheels/0b/90/c0/01de724414ef122bd05f056541fb6a0ecf47c7ca655f8b3c0f\n",
            "Successfully built pyspark\n",
            "Installing collected packages: py4j, pyspark\n",
            "Successfully installed py4j-0.10.9 pyspark-3.1.1\n"
          ],
          "name": "stdout"
        }
      ]
    },
    {
      "cell_type": "code",
      "metadata": {
        "id": "RTtGW1vgYluy"
      },
      "source": [
        "import pyspark\n",
        "from pyspark.sql import SparkSession"
      ],
      "execution_count": 3,
      "outputs": []
    },
    {
      "cell_type": "code",
      "metadata": {
        "id": "F1yGy4J6ZHZz"
      },
      "source": [
        "\n",
        "spark = SparkSession.builder.appName('pratise').getOrCreate()\n",
        "df_pyspark = spark.read.csv('tips.csv')"
      ],
      "execution_count": 39,
      "outputs": []
    },
    {
      "cell_type": "code",
      "metadata": {
        "colab": {
          "base_uri": "https://localhost:8080/"
        },
        "id": "lAQhK-gXZKJp",
        "outputId": "96f97ff6-d61f-4b7e-a106-9db05411f7e8"
      },
      "source": [
        "\n",
        "df_pyspark"
      ],
      "execution_count": 7,
      "outputs": [
        {
          "output_type": "execute_result",
          "data": {
            "text/plain": [
              "DataFrame[_c0: string, _c1: string, _c2: string, _c3: string, _c4: string, _c5: string, _c6: string]"
            ]
          },
          "metadata": {
            "tags": []
          },
          "execution_count": 7
        }
      ]
    },
    {
      "cell_type": "code",
      "metadata": {
        "colab": {
          "base_uri": "https://localhost:8080/"
        },
        "id": "o_xWt-TTZs20",
        "outputId": "60a9ea4e-1c4f-4ff7-d8d5-e5c856423c58"
      },
      "source": [
        "df_pyspark.show()"
      ],
      "execution_count": 8,
      "outputs": [
        {
          "output_type": "stream",
          "text": [
            "+----------+----+------+------+---+------+----+\n",
            "|       _c0| _c1|   _c2|   _c3|_c4|   _c5| _c6|\n",
            "+----------+----+------+------+---+------+----+\n",
            "|total_bill| tip|   sex|smoker|day|  time|size|\n",
            "|     16.99|1.01|Female|    No|Sun|Dinner|   2|\n",
            "|     10.34|1.66|  Male|    No|Sun|Dinner|   3|\n",
            "|     21.01| 3.5|  Male|    No|Sun|Dinner|   3|\n",
            "|     23.68|3.31|  Male|    No|Sun|Dinner|   2|\n",
            "|     24.59|3.61|Female|    No|Sun|Dinner|   4|\n",
            "|     25.29|4.71|  Male|    No|Sun|Dinner|   4|\n",
            "|      8.77|   2|  Male|    No|Sun|Dinner|   2|\n",
            "|     26.88|3.12|  Male|    No|Sun|Dinner|   4|\n",
            "|     15.04|1.96|  Male|    No|Sun|Dinner|   2|\n",
            "|     14.78|3.23|  Male|    No|Sun|Dinner|   2|\n",
            "|     10.27|1.71|  Male|    No|Sun|Dinner|   2|\n",
            "|     35.26|   5|Female|    No|Sun|Dinner|   4|\n",
            "|     15.42|1.57|  Male|    No|Sun|Dinner|   2|\n",
            "|     18.43|   3|  Male|    No|Sun|Dinner|   4|\n",
            "|     14.83|3.02|Female|    No|Sun|Dinner|   2|\n",
            "|     21.58|3.92|  Male|    No|Sun|Dinner|   2|\n",
            "|     10.33|1.67|Female|    No|Sun|Dinner|   3|\n",
            "|     16.29|3.71|  Male|    No|Sun|Dinner|   3|\n",
            "|     16.97| 3.5|Female|    No|Sun|Dinner|   3|\n",
            "+----------+----+------+------+---+------+----+\n",
            "only showing top 20 rows\n",
            "\n"
          ],
          "name": "stdout"
        }
      ]
    },
    {
      "cell_type": "code",
      "metadata": {
        "id": "pNxnKZ6wZuzz"
      },
      "source": [
        "df_pyspark = spark.read.option('header','true').csv('tips.csv')"
      ],
      "execution_count": 9,
      "outputs": []
    },
    {
      "cell_type": "code",
      "metadata": {
        "colab": {
          "base_uri": "https://localhost:8080/"
        },
        "id": "AkskG4SgZxUE",
        "outputId": "a1642993-62d9-4a76-a27a-e06a32e529d4"
      },
      "source": [
        "df_pyspark"
      ],
      "execution_count": 10,
      "outputs": [
        {
          "output_type": "execute_result",
          "data": {
            "text/plain": [
              "DataFrame[total_bill: string, tip: string, sex: string, smoker: string, day: string, time: string, size: string]"
            ]
          },
          "metadata": {
            "tags": []
          },
          "execution_count": 10
        }
      ]
    },
    {
      "cell_type": "code",
      "metadata": {
        "colab": {
          "base_uri": "https://localhost:8080/"
        },
        "id": "9YQd71ENZ0ud",
        "outputId": "f9155c3d-7de6-4b77-8dff-6296121bda2d"
      },
      "source": [
        "type(df_pyspark)"
      ],
      "execution_count": 11,
      "outputs": [
        {
          "output_type": "execute_result",
          "data": {
            "text/plain": [
              "pyspark.sql.dataframe.DataFrame"
            ]
          },
          "metadata": {
            "tags": []
          },
          "execution_count": 11
        }
      ]
    },
    {
      "cell_type": "code",
      "metadata": {
        "colab": {
          "base_uri": "https://localhost:8080/"
        },
        "id": "LRAPDpFkZ4t5",
        "outputId": "ce3aa27b-0cef-4316-8251-5638304c6852"
      },
      "source": [
        "df_pyspark.printSchema()"
      ],
      "execution_count": 12,
      "outputs": [
        {
          "output_type": "stream",
          "text": [
            "root\n",
            " |-- total_bill: string (nullable = true)\n",
            " |-- tip: string (nullable = true)\n",
            " |-- sex: string (nullable = true)\n",
            " |-- smoker: string (nullable = true)\n",
            " |-- day: string (nullable = true)\n",
            " |-- time: string (nullable = true)\n",
            " |-- size: string (nullable = true)\n",
            "\n"
          ],
          "name": "stdout"
        }
      ]
    },
    {
      "cell_type": "markdown",
      "metadata": {
        "id": "LwEmiJgmaSj_"
      },
      "source": [
        "## 1. pyspark Data Frame\n",
        "## 2. Read the Dataset\n",
        "## 3. Checking the datatypes of the columns\n",
        "## 4. Selecting columns and Indexing\n",
        "## 5. Check Describe option Similar to pandas\n",
        "## 6. Adding Columns\n",
        "## 7. Droping Columns"
      ]
    },
    {
      "cell_type": "code",
      "metadata": {
        "id": "cM2IMi8Ma1AT"
      },
      "source": [
        "df_pyspark1 = spark.read.option('header','true').csv('tips.csv')"
      ],
      "execution_count": 29,
      "outputs": []
    },
    {
      "cell_type": "markdown",
      "metadata": {
        "id": "6Ki3zdC-bye_"
      },
      "source": [
        "### Check the Schema  "
      ]
    },
    {
      "cell_type": "code",
      "metadata": {
        "colab": {
          "base_uri": "https://localhost:8080/"
        },
        "id": "Gi6ZBsHxbdz5",
        "outputId": "41b26347-6cc9-4074-862e-f8a7f24abd3d"
      },
      "source": [
        "df_pyspark1.printSchema()"
      ],
      "execution_count": 30,
      "outputs": [
        {
          "output_type": "stream",
          "text": [
            "root\n",
            " |-- total_bill: string (nullable = true)\n",
            " |-- tip: string (nullable = true)\n",
            " |-- sex: string (nullable = true)\n",
            " |-- smoker: string (nullable = true)\n",
            " |-- day: string (nullable = true)\n",
            " |-- time: string (nullable = true)\n",
            " |-- size: string (nullable = true)\n",
            "\n"
          ],
          "name": "stdout"
        }
      ]
    },
    {
      "cell_type": "code",
      "metadata": {
        "id": "sNg5mGehb-Bf"
      },
      "source": [
        "df_pyspark = spark.read.option('header','true').csv('tips.csv',inferSchema = True)"
      ],
      "execution_count": 27,
      "outputs": []
    },
    {
      "cell_type": "code",
      "metadata": {
        "colab": {
          "base_uri": "https://localhost:8080/"
        },
        "id": "LMxaGJ44dOre",
        "outputId": "a7cee258-97dc-48ef-858d-69db48814d04"
      },
      "source": [
        "df_pyspark"
      ],
      "execution_count": 28,
      "outputs": [
        {
          "output_type": "execute_result",
          "data": {
            "text/plain": [
              "DataFrame[total_bill: double, tip: double, sex: string, smoker: string, day: string, time: string, size: int]"
            ]
          },
          "metadata": {
            "tags": []
          },
          "execution_count": 28
        }
      ]
    },
    {
      "cell_type": "code",
      "metadata": {
        "colab": {
          "base_uri": "https://localhost:8080/"
        },
        "id": "S0xPHlKBdQOG",
        "outputId": "a22386c0-0641-4974-9739-a5708e105af2"
      },
      "source": [
        "df_pyspark.printSchema()"
      ],
      "execution_count": 22,
      "outputs": [
        {
          "output_type": "stream",
          "text": [
            "root\n",
            " |-- total_bill: double (nullable = true)\n",
            " |-- tip: double (nullable = true)\n",
            " |-- sex: string (nullable = true)\n",
            " |-- smoker: string (nullable = true)\n",
            " |-- day: string (nullable = true)\n",
            " |-- time: string (nullable = true)\n",
            " |-- size: integer (nullable = true)\n",
            "\n"
          ],
          "name": "stdout"
        }
      ]
    },
    {
      "cell_type": "code",
      "metadata": {
        "id": "WKGLO2ITdaZe"
      },
      "source": [
        "df_pyspark1 = spark.read.csv('tips.csv',header=True,inferSchema = True) "
      ],
      "execution_count": 43,
      "outputs": []
    },
    {
      "cell_type": "code",
      "metadata": {
        "colab": {
          "base_uri": "https://localhost:8080/"
        },
        "id": "NgwKk6Tnd7fp",
        "outputId": "c32c1a6f-d0e2-48ca-aec0-44ff5d2e286b"
      },
      "source": [
        "df_pyspark1.show()"
      ],
      "execution_count": 45,
      "outputs": [
        {
          "output_type": "stream",
          "text": [
            "+----------+----+------+------+---+------+----+\n",
            "|total_bill| tip|   sex|smoker|day|  time|size|\n",
            "+----------+----+------+------+---+------+----+\n",
            "|     16.99|1.01|Female|    No|Sun|Dinner|   2|\n",
            "|     10.34|1.66|  Male|    No|Sun|Dinner|   3|\n",
            "|     21.01| 3.5|  Male|    No|Sun|Dinner|   3|\n",
            "|     23.68|3.31|  Male|    No|Sun|Dinner|   2|\n",
            "|     24.59|3.61|Female|    No|Sun|Dinner|   4|\n",
            "|     25.29|4.71|  Male|    No|Sun|Dinner|   4|\n",
            "|      8.77| 2.0|  Male|    No|Sun|Dinner|   2|\n",
            "|     26.88|3.12|  Male|    No|Sun|Dinner|   4|\n",
            "|     15.04|1.96|  Male|    No|Sun|Dinner|   2|\n",
            "|     14.78|3.23|  Male|    No|Sun|Dinner|   2|\n",
            "|     10.27|1.71|  Male|    No|Sun|Dinner|   2|\n",
            "|     35.26| 5.0|Female|    No|Sun|Dinner|   4|\n",
            "|     15.42|1.57|  Male|    No|Sun|Dinner|   2|\n",
            "|     18.43| 3.0|  Male|    No|Sun|Dinner|   4|\n",
            "|     14.83|3.02|Female|    No|Sun|Dinner|   2|\n",
            "|     21.58|3.92|  Male|    No|Sun|Dinner|   2|\n",
            "|     10.33|1.67|Female|    No|Sun|Dinner|   3|\n",
            "|     16.29|3.71|  Male|    No|Sun|Dinner|   3|\n",
            "|     16.97| 3.5|Female|    No|Sun|Dinner|   3|\n",
            "|     20.65|3.35|  Male|    No|Sat|Dinner|   3|\n",
            "+----------+----+------+------+---+------+----+\n",
            "only showing top 20 rows\n",
            "\n"
          ],
          "name": "stdout"
        }
      ]
    },
    {
      "cell_type": "code",
      "metadata": {
        "colab": {
          "base_uri": "https://localhost:8080/"
        },
        "id": "1YHoFCD_d83e",
        "outputId": "5ea427a3-34f6-4d14-e36d-f523078fdd63"
      },
      "source": [
        "df_pyspark1.printSchema()"
      ],
      "execution_count": 46,
      "outputs": [
        {
          "output_type": "stream",
          "text": [
            "root\n",
            " |-- total_bill: double (nullable = true)\n",
            " |-- tip: double (nullable = true)\n",
            " |-- sex: string (nullable = true)\n",
            " |-- smoker: string (nullable = true)\n",
            " |-- day: string (nullable = true)\n",
            " |-- time: string (nullable = true)\n",
            " |-- size: integer (nullable = true)\n",
            "\n"
          ],
          "name": "stdout"
        }
      ]
    },
    {
      "cell_type": "code",
      "metadata": {
        "colab": {
          "base_uri": "https://localhost:8080/"
        },
        "id": "Tj60l7vigXDi",
        "outputId": "ee6a6b04-2910-4789-ef41-216c684e29f4"
      },
      "source": [
        "type(df_pyspark1)"
      ],
      "execution_count": 47,
      "outputs": [
        {
          "output_type": "execute_result",
          "data": {
            "text/plain": [
              "pyspark.sql.dataframe.DataFrame"
            ]
          },
          "metadata": {
            "tags": []
          },
          "execution_count": 47
        }
      ]
    },
    {
      "cell_type": "code",
      "metadata": {
        "colab": {
          "base_uri": "https://localhost:8080/"
        },
        "id": "SO8h6OTjgeb2",
        "outputId": "c992b059-1cc0-4ce5-ebe6-c52f94911ee6"
      },
      "source": [
        "df_pyspark1.head(5)\n"
      ],
      "execution_count": 49,
      "outputs": [
        {
          "output_type": "execute_result",
          "data": {
            "text/plain": [
              "[Row(total_bill=16.99, tip=1.01, sex='Female', smoker='No', day='Sun', time='Dinner', size=2),\n",
              " Row(total_bill=10.34, tip=1.66, sex='Male', smoker='No', day='Sun', time='Dinner', size=3),\n",
              " Row(total_bill=21.01, tip=3.5, sex='Male', smoker='No', day='Sun', time='Dinner', size=3),\n",
              " Row(total_bill=23.68, tip=3.31, sex='Male', smoker='No', day='Sun', time='Dinner', size=2),\n",
              " Row(total_bill=24.59, tip=3.61, sex='Female', smoker='No', day='Sun', time='Dinner', size=4)]"
            ]
          },
          "metadata": {
            "tags": []
          },
          "execution_count": 49
        }
      ]
    },
    {
      "cell_type": "code",
      "metadata": {
        "colab": {
          "base_uri": "https://localhost:8080/"
        },
        "id": "lzcurFspgqTO",
        "outputId": "b30d63d7-fc05-44a1-b5fb-237a9aa8e3b2"
      },
      "source": [
        "df_pyspark1.tail(5)"
      ],
      "execution_count": 50,
      "outputs": [
        {
          "output_type": "execute_result",
          "data": {
            "text/plain": [
              "[Row(total_bill=29.03, tip=5.92, sex='Male', smoker='No', day='Sat', time='Dinner', size=3),\n",
              " Row(total_bill=27.18, tip=2.0, sex='Female', smoker='Yes', day='Sat', time='Dinner', size=2),\n",
              " Row(total_bill=22.67, tip=2.0, sex='Male', smoker='Yes', day='Sat', time='Dinner', size=2),\n",
              " Row(total_bill=17.82, tip=1.75, sex='Male', smoker='No', day='Sat', time='Dinner', size=2),\n",
              " Row(total_bill=18.78, tip=3.0, sex='Female', smoker='No', day='Thur', time='Dinner', size=2)]"
            ]
          },
          "metadata": {
            "tags": []
          },
          "execution_count": 50
        }
      ]
    },
    {
      "cell_type": "markdown",
      "metadata": {
        "id": "nAiZDP6Tg0aw"
      },
      "source": [
        "### How to Select Columns"
      ]
    },
    {
      "cell_type": "code",
      "metadata": {
        "colab": {
          "base_uri": "https://localhost:8080/"
        },
        "id": "IjyWAmorgzLs",
        "outputId": "f604611d-e0fa-4406-c80d-614cade7da1d"
      },
      "source": [
        "df_pyspark1.show()"
      ],
      "execution_count": 51,
      "outputs": [
        {
          "output_type": "stream",
          "text": [
            "+----------+----+------+------+---+------+----+\n",
            "|total_bill| tip|   sex|smoker|day|  time|size|\n",
            "+----------+----+------+------+---+------+----+\n",
            "|     16.99|1.01|Female|    No|Sun|Dinner|   2|\n",
            "|     10.34|1.66|  Male|    No|Sun|Dinner|   3|\n",
            "|     21.01| 3.5|  Male|    No|Sun|Dinner|   3|\n",
            "|     23.68|3.31|  Male|    No|Sun|Dinner|   2|\n",
            "|     24.59|3.61|Female|    No|Sun|Dinner|   4|\n",
            "|     25.29|4.71|  Male|    No|Sun|Dinner|   4|\n",
            "|      8.77| 2.0|  Male|    No|Sun|Dinner|   2|\n",
            "|     26.88|3.12|  Male|    No|Sun|Dinner|   4|\n",
            "|     15.04|1.96|  Male|    No|Sun|Dinner|   2|\n",
            "|     14.78|3.23|  Male|    No|Sun|Dinner|   2|\n",
            "|     10.27|1.71|  Male|    No|Sun|Dinner|   2|\n",
            "|     35.26| 5.0|Female|    No|Sun|Dinner|   4|\n",
            "|     15.42|1.57|  Male|    No|Sun|Dinner|   2|\n",
            "|     18.43| 3.0|  Male|    No|Sun|Dinner|   4|\n",
            "|     14.83|3.02|Female|    No|Sun|Dinner|   2|\n",
            "|     21.58|3.92|  Male|    No|Sun|Dinner|   2|\n",
            "|     10.33|1.67|Female|    No|Sun|Dinner|   3|\n",
            "|     16.29|3.71|  Male|    No|Sun|Dinner|   3|\n",
            "|     16.97| 3.5|Female|    No|Sun|Dinner|   3|\n",
            "|     20.65|3.35|  Male|    No|Sat|Dinner|   3|\n",
            "+----------+----+------+------+---+------+----+\n",
            "only showing top 20 rows\n",
            "\n"
          ],
          "name": "stdout"
        }
      ]
    },
    {
      "cell_type": "code",
      "metadata": {
        "colab": {
          "base_uri": "https://localhost:8080/"
        },
        "id": "R1UEstLyg7xq",
        "outputId": "7f4b2cfa-e2e2-4da3-aa2c-c2f653e0ff4e"
      },
      "source": [
        "df_pyspark1.select('total_bill')"
      ],
      "execution_count": 52,
      "outputs": [
        {
          "output_type": "execute_result",
          "data": {
            "text/plain": [
              "DataFrame[total_bill: double]"
            ]
          },
          "metadata": {
            "tags": []
          },
          "execution_count": 52
        }
      ]
    },
    {
      "cell_type": "code",
      "metadata": {
        "colab": {
          "base_uri": "https://localhost:8080/"
        },
        "id": "n8aBnN4thLq3",
        "outputId": "15128440-e26b-4245-bec8-78dcd4f2eac7"
      },
      "source": [
        "df_pyspark1.select('total_bill').show()"
      ],
      "execution_count": 58,
      "outputs": [
        {
          "output_type": "stream",
          "text": [
            "+----------+\n",
            "|total_bill|\n",
            "+----------+\n",
            "|     16.99|\n",
            "|     10.34|\n",
            "|     21.01|\n",
            "|     23.68|\n",
            "|     24.59|\n",
            "|     25.29|\n",
            "|      8.77|\n",
            "|     26.88|\n",
            "|     15.04|\n",
            "|     14.78|\n",
            "|     10.27|\n",
            "|     35.26|\n",
            "|     15.42|\n",
            "|     18.43|\n",
            "|     14.83|\n",
            "|     21.58|\n",
            "|     10.33|\n",
            "|     16.29|\n",
            "|     16.97|\n",
            "|     20.65|\n",
            "+----------+\n",
            "only showing top 20 rows\n",
            "\n"
          ],
          "name": "stdout"
        }
      ]
    },
    {
      "cell_type": "code",
      "metadata": {
        "colab": {
          "base_uri": "https://localhost:8080/"
        },
        "id": "NU1nSTkAhi0P",
        "outputId": "4e4915ac-e044-4d71-dca1-5dd112fdf752"
      },
      "source": [
        "df_pyspark1.select(['total_bill','sex']).show()"
      ],
      "execution_count": 60,
      "outputs": [
        {
          "output_type": "stream",
          "text": [
            "+----------+------+\n",
            "|total_bill|   sex|\n",
            "+----------+------+\n",
            "|     16.99|Female|\n",
            "|     10.34|  Male|\n",
            "|     21.01|  Male|\n",
            "|     23.68|  Male|\n",
            "|     24.59|Female|\n",
            "|     25.29|  Male|\n",
            "|      8.77|  Male|\n",
            "|     26.88|  Male|\n",
            "|     15.04|  Male|\n",
            "|     14.78|  Male|\n",
            "|     10.27|  Male|\n",
            "|     35.26|Female|\n",
            "|     15.42|  Male|\n",
            "|     18.43|  Male|\n",
            "|     14.83|Female|\n",
            "|     21.58|  Male|\n",
            "|     10.33|Female|\n",
            "|     16.29|  Male|\n",
            "|     16.97|Female|\n",
            "|     20.65|  Male|\n",
            "+----------+------+\n",
            "only showing top 20 rows\n",
            "\n"
          ],
          "name": "stdout"
        }
      ]
    },
    {
      "cell_type": "code",
      "metadata": {
        "colab": {
          "base_uri": "https://localhost:8080/"
        },
        "id": "CmQrHvplh2DE",
        "outputId": "de0cb2ba-d5a4-4e74-c313-8ca88386ab4c"
      },
      "source": [
        "df_pyspark1.select(['total_bill','sex','size']).show()"
      ],
      "execution_count": 61,
      "outputs": [
        {
          "output_type": "stream",
          "text": [
            "+----------+------+----+\n",
            "|total_bill|   sex|size|\n",
            "+----------+------+----+\n",
            "|     16.99|Female|   2|\n",
            "|     10.34|  Male|   3|\n",
            "|     21.01|  Male|   3|\n",
            "|     23.68|  Male|   2|\n",
            "|     24.59|Female|   4|\n",
            "|     25.29|  Male|   4|\n",
            "|      8.77|  Male|   2|\n",
            "|     26.88|  Male|   4|\n",
            "|     15.04|  Male|   2|\n",
            "|     14.78|  Male|   2|\n",
            "|     10.27|  Male|   2|\n",
            "|     35.26|Female|   4|\n",
            "|     15.42|  Male|   2|\n",
            "|     18.43|  Male|   4|\n",
            "|     14.83|Female|   2|\n",
            "|     21.58|  Male|   2|\n",
            "|     10.33|Female|   3|\n",
            "|     16.29|  Male|   3|\n",
            "|     16.97|Female|   3|\n",
            "|     20.65|  Male|   3|\n",
            "+----------+------+----+\n",
            "only showing top 20 rows\n",
            "\n"
          ],
          "name": "stdout"
        }
      ]
    },
    {
      "cell_type": "code",
      "metadata": {
        "colab": {
          "base_uri": "https://localhost:8080/"
        },
        "id": "9-KuxR1ViTS8",
        "outputId": "b31b9f2c-6765-4921-b6e7-14ea511cea4e"
      },
      "source": [
        "df_pyspark1.select(['total_bill','sex','size','tip']).show()"
      ],
      "execution_count": 62,
      "outputs": [
        {
          "output_type": "stream",
          "text": [
            "+----------+------+----+----+\n",
            "|total_bill|   sex|size| tip|\n",
            "+----------+------+----+----+\n",
            "|     16.99|Female|   2|1.01|\n",
            "|     10.34|  Male|   3|1.66|\n",
            "|     21.01|  Male|   3| 3.5|\n",
            "|     23.68|  Male|   2|3.31|\n",
            "|     24.59|Female|   4|3.61|\n",
            "|     25.29|  Male|   4|4.71|\n",
            "|      8.77|  Male|   2| 2.0|\n",
            "|     26.88|  Male|   4|3.12|\n",
            "|     15.04|  Male|   2|1.96|\n",
            "|     14.78|  Male|   2|3.23|\n",
            "|     10.27|  Male|   2|1.71|\n",
            "|     35.26|Female|   4| 5.0|\n",
            "|     15.42|  Male|   2|1.57|\n",
            "|     18.43|  Male|   4| 3.0|\n",
            "|     14.83|Female|   2|3.02|\n",
            "|     21.58|  Male|   2|3.92|\n",
            "|     10.33|Female|   3|1.67|\n",
            "|     16.29|  Male|   3|3.71|\n",
            "|     16.97|Female|   3| 3.5|\n",
            "|     20.65|  Male|   3|3.35|\n",
            "+----------+------+----+----+\n",
            "only showing top 20 rows\n",
            "\n"
          ],
          "name": "stdout"
        }
      ]
    },
    {
      "cell_type": "code",
      "metadata": {
        "colab": {
          "base_uri": "https://localhost:8080/"
        },
        "id": "nHe09uGcihRJ",
        "outputId": "fa9aefa1-c867-457b-ad86-9662158c4d2b"
      },
      "source": [
        "df_pyspark1.select(['total_bill','sex','size','tip'])"
      ],
      "execution_count": 63,
      "outputs": [
        {
          "output_type": "execute_result",
          "data": {
            "text/plain": [
              "DataFrame[total_bill: double, sex: string, size: int, tip: double]"
            ]
          },
          "metadata": {
            "tags": []
          },
          "execution_count": 63
        }
      ]
    },
    {
      "cell_type": "code",
      "metadata": {
        "colab": {
          "base_uri": "https://localhost:8080/"
        },
        "id": "ZGUplacTinC8",
        "outputId": "cd56beae-a36f-4668-a3c8-73470792e083"
      },
      "source": [
        "df_pyspark1['total_bill','sex']"
      ],
      "execution_count": 65,
      "outputs": [
        {
          "output_type": "execute_result",
          "data": {
            "text/plain": [
              "DataFrame[total_bill: double, sex: string]"
            ]
          },
          "metadata": {
            "tags": []
          },
          "execution_count": 65
        }
      ]
    },
    {
      "cell_type": "code",
      "metadata": {
        "colab": {
          "base_uri": "https://localhost:8080/"
        },
        "id": "q9w7cOcxiyBK",
        "outputId": "d8812c7f-39e5-4a9b-8bfa-5ff9bf740cc7"
      },
      "source": [
        "df_pyspark1.describe().show()"
      ],
      "execution_count": 67,
      "outputs": [
        {
          "output_type": "stream",
          "text": [
            "+-------+------------------+------------------+------+------+----+------+------------------+\n",
            "|summary|        total_bill|               tip|   sex|smoker| day|  time|              size|\n",
            "+-------+------------------+------------------+------+------+----+------+------------------+\n",
            "|  count|               244|               244|   244|   244| 244|   244|               244|\n",
            "|   mean|19.785942622950824|2.9982786885245902|  null|  null|null|  null| 2.569672131147541|\n",
            "| stddev| 8.902411954856857|1.3836381890011815|  null|  null|null|  null|0.9510998047322347|\n",
            "|    min|              3.07|               1.0|Female|    No| Fri|Dinner|                 1|\n",
            "|    max|             50.81|              10.0|  Male|   Yes|Thur| Lunch|                 6|\n",
            "+-------+------------------+------------------+------+------+----+------+------------------+\n",
            "\n"
          ],
          "name": "stdout"
        }
      ]
    },
    {
      "cell_type": "markdown",
      "metadata": {
        "id": "6SrPwPicopiF"
      },
      "source": [
        "## Adding Columns in Data Frames  "
      ]
    },
    {
      "cell_type": "code",
      "metadata": {
        "colab": {
          "base_uri": "https://localhost:8080/"
        },
        "id": "H--o1FU5nr4K",
        "outputId": "0735b406-48ed-40f1-8f3f-28eb5da29500"
      },
      "source": [
        "df_pyspark1.withColumn('information about Total_bill',df_pyspark1['total_bill']-df_pyspark1['tip'])"
      ],
      "execution_count": 68,
      "outputs": [
        {
          "output_type": "execute_result",
          "data": {
            "text/plain": [
              "DataFrame[total_bill: double, tip: double, sex: string, smoker: string, day: string, time: string, size: int, information about Total_bill: double]"
            ]
          },
          "metadata": {
            "tags": []
          },
          "execution_count": 68
        }
      ]
    },
    {
      "cell_type": "code",
      "metadata": {
        "colab": {
          "base_uri": "https://localhost:8080/"
        },
        "id": "D7HDmDPzpZdR",
        "outputId": "4649f6d4-4f17-4ce7-e5e6-a30f2f46215c"
      },
      "source": [
        "df_pyspark1.withColumn('information about Total_bill',df_pyspark1['total_bill']-df_pyspark1['tip']).show()"
      ],
      "execution_count": 69,
      "outputs": [
        {
          "output_type": "stream",
          "text": [
            "+----------+----+------+------+---+------+----+----------------------------+\n",
            "|total_bill| tip|   sex|smoker|day|  time|size|information about Total_bill|\n",
            "+----------+----+------+------+---+------+----+----------------------------+\n",
            "|     16.99|1.01|Female|    No|Sun|Dinner|   2|          15.979999999999999|\n",
            "|     10.34|1.66|  Male|    No|Sun|Dinner|   3|                        8.68|\n",
            "|     21.01| 3.5|  Male|    No|Sun|Dinner|   3|                       17.51|\n",
            "|     23.68|3.31|  Male|    No|Sun|Dinner|   2|                       20.37|\n",
            "|     24.59|3.61|Female|    No|Sun|Dinner|   4|                       20.98|\n",
            "|     25.29|4.71|  Male|    No|Sun|Dinner|   4|                       20.58|\n",
            "|      8.77| 2.0|  Male|    No|Sun|Dinner|   2|                        6.77|\n",
            "|     26.88|3.12|  Male|    No|Sun|Dinner|   4|          23.759999999999998|\n",
            "|     15.04|1.96|  Male|    No|Sun|Dinner|   2|          13.079999999999998|\n",
            "|     14.78|3.23|  Male|    No|Sun|Dinner|   2|          11.549999999999999|\n",
            "|     10.27|1.71|  Male|    No|Sun|Dinner|   2|           8.559999999999999|\n",
            "|     35.26| 5.0|Female|    No|Sun|Dinner|   4|          30.259999999999998|\n",
            "|     15.42|1.57|  Male|    No|Sun|Dinner|   2|                       13.85|\n",
            "|     18.43| 3.0|  Male|    No|Sun|Dinner|   4|                       15.43|\n",
            "|     14.83|3.02|Female|    No|Sun|Dinner|   2|                       11.81|\n",
            "|     21.58|3.92|  Male|    No|Sun|Dinner|   2|          17.659999999999997|\n",
            "|     10.33|1.67|Female|    No|Sun|Dinner|   3|                        8.66|\n",
            "|     16.29|3.71|  Male|    No|Sun|Dinner|   3|          12.579999999999998|\n",
            "|     16.97| 3.5|Female|    No|Sun|Dinner|   3|          13.469999999999999|\n",
            "|     20.65|3.35|  Male|    No|Sat|Dinner|   3|          17.299999999999997|\n",
            "+----------+----+------+------+---+------+----+----------------------------+\n",
            "only showing top 20 rows\n",
            "\n"
          ],
          "name": "stdout"
        }
      ]
    },
    {
      "cell_type": "markdown",
      "metadata": {
        "id": "Zrlot47Up7g5"
      },
      "source": [
        ""
      ]
    },
    {
      "cell_type": "markdown",
      "metadata": {
        "id": "-qFSnboFp9M8"
      },
      "source": [
        "## Drop the Columns"
      ]
    },
    {
      "cell_type": "code",
      "metadata": {
        "colab": {
          "base_uri": "https://localhost:8080/"
        },
        "id": "4Q09OJ8hpcFD",
        "outputId": "0d116c24-0b40-409b-a7a7-24e3fc249301"
      },
      "source": [
        "df_pyspark1.drop('information about Total_bill').show()"
      ],
      "execution_count": 71,
      "outputs": [
        {
          "output_type": "stream",
          "text": [
            "+----------+----+------+------+---+------+----+\n",
            "|total_bill| tip|   sex|smoker|day|  time|size|\n",
            "+----------+----+------+------+---+------+----+\n",
            "|     16.99|1.01|Female|    No|Sun|Dinner|   2|\n",
            "|     10.34|1.66|  Male|    No|Sun|Dinner|   3|\n",
            "|     21.01| 3.5|  Male|    No|Sun|Dinner|   3|\n",
            "|     23.68|3.31|  Male|    No|Sun|Dinner|   2|\n",
            "|     24.59|3.61|Female|    No|Sun|Dinner|   4|\n",
            "|     25.29|4.71|  Male|    No|Sun|Dinner|   4|\n",
            "|      8.77| 2.0|  Male|    No|Sun|Dinner|   2|\n",
            "|     26.88|3.12|  Male|    No|Sun|Dinner|   4|\n",
            "|     15.04|1.96|  Male|    No|Sun|Dinner|   2|\n",
            "|     14.78|3.23|  Male|    No|Sun|Dinner|   2|\n",
            "|     10.27|1.71|  Male|    No|Sun|Dinner|   2|\n",
            "|     35.26| 5.0|Female|    No|Sun|Dinner|   4|\n",
            "|     15.42|1.57|  Male|    No|Sun|Dinner|   2|\n",
            "|     18.43| 3.0|  Male|    No|Sun|Dinner|   4|\n",
            "|     14.83|3.02|Female|    No|Sun|Dinner|   2|\n",
            "|     21.58|3.92|  Male|    No|Sun|Dinner|   2|\n",
            "|     10.33|1.67|Female|    No|Sun|Dinner|   3|\n",
            "|     16.29|3.71|  Male|    No|Sun|Dinner|   3|\n",
            "|     16.97| 3.5|Female|    No|Sun|Dinner|   3|\n",
            "|     20.65|3.35|  Male|    No|Sat|Dinner|   3|\n",
            "+----------+----+------+------+---+------+----+\n",
            "only showing top 20 rows\n",
            "\n"
          ],
          "name": "stdout"
        }
      ]
    },
    {
      "cell_type": "markdown",
      "metadata": {
        "id": "Exa8Q55WqRxW"
      },
      "source": [
        "##  Rename the Columns  "
      ]
    },
    {
      "cell_type": "code",
      "metadata": {
        "colab": {
          "base_uri": "https://localhost:8080/"
        },
        "id": "nmDfftGFqLXc",
        "outputId": "e24e8fa9-e552-413d-b0a7-90d926f3578b"
      },
      "source": [
        "df_pyspark1.withColumnRenamed('total_bill','Total Bill')"
      ],
      "execution_count": 72,
      "outputs": [
        {
          "output_type": "execute_result",
          "data": {
            "text/plain": [
              "DataFrame[Total Bill: double, tip: double, sex: string, smoker: string, day: string, time: string, size: int]"
            ]
          },
          "metadata": {
            "tags": []
          },
          "execution_count": 72
        }
      ]
    },
    {
      "cell_type": "code",
      "metadata": {
        "colab": {
          "base_uri": "https://localhost:8080/"
        },
        "id": "2j-MILwPqiG4",
        "outputId": "ba89c7f8-a95a-43b0-de23-c895343b9a28"
      },
      "source": [
        "df_pyspark1.withColumnRenamed('total_bill','Total Bill').show()"
      ],
      "execution_count": 73,
      "outputs": [
        {
          "output_type": "stream",
          "text": [
            "+----------+----+------+------+---+------+----+\n",
            "|Total Bill| tip|   sex|smoker|day|  time|size|\n",
            "+----------+----+------+------+---+------+----+\n",
            "|     16.99|1.01|Female|    No|Sun|Dinner|   2|\n",
            "|     10.34|1.66|  Male|    No|Sun|Dinner|   3|\n",
            "|     21.01| 3.5|  Male|    No|Sun|Dinner|   3|\n",
            "|     23.68|3.31|  Male|    No|Sun|Dinner|   2|\n",
            "|     24.59|3.61|Female|    No|Sun|Dinner|   4|\n",
            "|     25.29|4.71|  Male|    No|Sun|Dinner|   4|\n",
            "|      8.77| 2.0|  Male|    No|Sun|Dinner|   2|\n",
            "|     26.88|3.12|  Male|    No|Sun|Dinner|   4|\n",
            "|     15.04|1.96|  Male|    No|Sun|Dinner|   2|\n",
            "|     14.78|3.23|  Male|    No|Sun|Dinner|   2|\n",
            "|     10.27|1.71|  Male|    No|Sun|Dinner|   2|\n",
            "|     35.26| 5.0|Female|    No|Sun|Dinner|   4|\n",
            "|     15.42|1.57|  Male|    No|Sun|Dinner|   2|\n",
            "|     18.43| 3.0|  Male|    No|Sun|Dinner|   4|\n",
            "|     14.83|3.02|Female|    No|Sun|Dinner|   2|\n",
            "|     21.58|3.92|  Male|    No|Sun|Dinner|   2|\n",
            "|     10.33|1.67|Female|    No|Sun|Dinner|   3|\n",
            "|     16.29|3.71|  Male|    No|Sun|Dinner|   3|\n",
            "|     16.97| 3.5|Female|    No|Sun|Dinner|   3|\n",
            "|     20.65|3.35|  Male|    No|Sat|Dinner|   3|\n",
            "+----------+----+------+------+---+------+----+\n",
            "only showing top 20 rows\n",
            "\n"
          ],
          "name": "stdout"
        }
      ]
    },
    {
      "cell_type": "code",
      "metadata": {
        "id": "swjctRAxqkb5"
      },
      "source": [
        ""
      ],
      "execution_count": null,
      "outputs": []
    }
  ]
}